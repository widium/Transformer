{
 "cells": [
  {
   "cell_type": "code",
   "execution_count": 1,
   "metadata": {},
   "outputs": [
    {
     "name": "stderr",
     "output_type": "stream",
     "text": [
      "/tmp/ipykernel_134033/2078188667.py:1: DeprecationWarning: the imp module is deprecated in favour of importlib; see the module's documentation for alternative uses\n",
      "  from imp import reload\n",
      "2022-10-06 14:46:21.938638: W tensorflow/stream_executor/platform/default/dso_loader.cc:64] Could not load dynamic library 'libcudart.so.11.0'; dlerror: libcudart.so.11.0: cannot open shared object file: No such file or directory\n",
      "2022-10-06 14:46:21.938665: I tensorflow/stream_executor/cuda/cudart_stub.cc:29] Ignore above cudart dlerror if you do not have a GPU set up on your machine.\n"
     ]
    }
   ],
   "source": [
    "from imp import reload\n",
    "import tensorflow as tf\n",
    "import numpy as np\n",
    "\n",
    "import importlib\n",
    "\n",
    "from source.Model.Transformer_model import Transformer\n",
    "\n"
   ]
  },
  {
   "cell_type": "code",
   "execution_count": 2,
   "metadata": {},
   "outputs": [
    {
     "name": "stdout",
     "output_type": "stream",
     "text": [
      "{'Salut': 0, 'comment': 1, 'ca': 2, 'va': 3, '?': 4, '<START>': 5, '<END>': 6, '<PAD>': 7}\n",
      "{'<START>': 0, 'Hi': 1, 'how': 2, 'are': 3, 'you': 4, '?': 5, '<END>': 6, '<PAD>': 7}\n",
      "['Salut', 'comment', 'ca', 'va', '?']\n",
      "['<START>', 'Hi', 'how', 'are', 'you', '?']\n",
      "input_seq [[0 1 2 3 4]]\n",
      "output_seq [[0 1 2 3 4 5]]\n"
     ]
    }
   ],
   "source": [
    "input_embedding = [[\n",
    "  \"Salut\", \"comment\", \"ca\", \"va\", \"?\"\n",
    "]]\n",
    "\n",
    "\n",
    "output_embedding = [[\n",
    "    \"<START>\", \"Hi\", \"how\", \"are\", \"you\", \"?\"\n",
    "]]\n",
    "\n",
    "def get_vocabulary(sequences):\n",
    "\n",
    "  token_to_info = {}\n",
    "\n",
    "  for sequence in sequences:\n",
    "    for word in sequence:\n",
    "      if word not in token_to_info:\n",
    "        token_to_info[word] = len(token_to_info)\n",
    "  \n",
    "  return token_to_info\n",
    "\n",
    "input_voc = get_vocabulary(input_embedding)\n",
    "output_voc = get_vocabulary(output_embedding)\n",
    "\n",
    "input_voc[\"<START>\"] = len(input_voc)\n",
    "input_voc[\"<END>\"] = len(input_voc)\n",
    "input_voc[\"<PAD>\"] = len(input_voc)\n",
    "\n",
    "output_voc[\"<END>\"] = len(output_voc)\n",
    "output_voc[\"<PAD>\"] = len(output_voc)\n",
    "\n",
    "print(input_voc)\n",
    "print(output_voc)\n",
    "\n",
    "def sequences_to_int(sequences, voc):\n",
    "  for sequence in sequences:\n",
    "    print(sequence)\n",
    "    for s, word in enumerate(sequence):\n",
    "      sequence[s] = voc[word]\n",
    "  return np.array(sequences)\n",
    "\n",
    "input_seq = sequences_to_int(input_embedding, input_voc)\n",
    "output_seq = sequences_to_int(output_embedding, output_voc)\n",
    "\n",
    "print(\"input_seq\", input_seq)\n",
    "print(\"output_seq\", output_seq)"
   ]
  },
  {
   "cell_type": "code",
   "execution_count": 3,
   "metadata": {},
   "outputs": [
    {
     "name": "stderr",
     "output_type": "stream",
     "text": [
      "2022-10-06 14:46:25.410621: I tensorflow/stream_executor/cuda/cuda_gpu_executor.cc:939] successful NUMA node read from SysFS had negative value (-1), but there must be at least one NUMA node, so returning NUMA node zero\n",
      "2022-10-06 14:46:25.410923: W tensorflow/stream_executor/platform/default/dso_loader.cc:64] Could not load dynamic library 'libcudart.so.11.0'; dlerror: libcudart.so.11.0: cannot open shared object file: No such file or directory\n",
      "2022-10-06 14:46:25.410967: W tensorflow/stream_executor/platform/default/dso_loader.cc:64] Could not load dynamic library 'libcublas.so.11'; dlerror: libcublas.so.11: cannot open shared object file: No such file or directory\n",
      "2022-10-06 14:46:25.410998: W tensorflow/stream_executor/platform/default/dso_loader.cc:64] Could not load dynamic library 'libcublasLt.so.11'; dlerror: libcublasLt.so.11: cannot open shared object file: No such file or directory\n",
      "2022-10-06 14:46:25.411029: W tensorflow/stream_executor/platform/default/dso_loader.cc:64] Could not load dynamic library 'libcufft.so.10'; dlerror: libcufft.so.10: cannot open shared object file: No such file or directory\n",
      "2022-10-06 14:46:25.411061: W tensorflow/stream_executor/platform/default/dso_loader.cc:64] Could not load dynamic library 'libcurand.so.10'; dlerror: libcurand.so.10: cannot open shared object file: No such file or directory\n",
      "2022-10-06 14:46:25.411092: W tensorflow/stream_executor/platform/default/dso_loader.cc:64] Could not load dynamic library 'libcusolver.so.11'; dlerror: libcusolver.so.11: cannot open shared object file: No such file or directory\n",
      "2022-10-06 14:46:25.411145: W tensorflow/stream_executor/platform/default/dso_loader.cc:64] Could not load dynamic library 'libcusparse.so.11'; dlerror: libcusparse.so.11: cannot open shared object file: No such file or directory\n",
      "2022-10-06 14:46:25.411174: W tensorflow/stream_executor/platform/default/dso_loader.cc:64] Could not load dynamic library 'libcudnn.so.8'; dlerror: libcudnn.so.8: cannot open shared object file: No such file or directory\n",
      "2022-10-06 14:46:25.411182: W tensorflow/core/common_runtime/gpu/gpu_device.cc:1850] Cannot dlopen some GPU libraries. Please make sure the missing libraries mentioned above are installed properly if you would like to use GPU. Follow the guide at https://www.tensorflow.org/install/gpu for how to download and setup the required libraries for your platform.\n",
      "Skipping registering GPU devices...\n",
      "2022-10-06 14:46:25.412534: I tensorflow/core/platform/cpu_feature_guard.cc:151] This TensorFlow binary is optimized with oneAPI Deep Neural Network Library (oneDNN) to use the following CPU instructions in performance-critical operations:  AVX2 AVX512F FMA\n",
      "To enable them in other operations, rebuild TensorFlow with the appropriate compiler flags.\n"
     ]
    },
    {
     "name": "stdout",
     "output_type": "stream",
     "text": [
      "Model: \"model\"\n",
      "__________________________________________________________________________________________________\n",
      " Layer (type)                   Output Shape         Param #     Connected to                     \n",
      "==================================================================================================\n",
      " input_1 (InputLayer)           [(None, 5)]          0           []                               \n",
      "                                                                                                  \n",
      " input_2 (InputLayer)           [(None, 6)]          0           []                               \n",
      "                                                                                                  \n",
      " embedding__layer (Embedding_La  (None, 5, 256)      1280        ['input_1[0][0]']                \n",
      " yer)                                                                                             \n",
      "                                                                                                  \n",
      " embedding__layer_1 (Embedding_  (None, 6, 256)      1536        ['input_2[0][0]']                \n",
      " Layer)                                                                                           \n",
      "                                                                                                  \n",
      " encoder__layer (Encoder_Layer)  (None, 5, 256)      1582086     ['embedding__layer[0][0]']       \n",
      "                                                                                                  \n",
      " decoder__layer (Decoder_Layer)  (None, 6, 256)      2766342     ['embedding__layer_1[0][0]',     \n",
      "                                                                  'encoder__layer[0][0]']         \n",
      "                                                                                                  \n",
      " dense (Dense)                  (None, 6, 8)         2056        ['decoder__layer[0][0]']         \n",
      "                                                                                                  \n",
      " tf.nn.softmax (TFOpLambda)     (None, 6, 8)         0           ['dense[0][0]']                  \n",
      "                                                                                                  \n",
      "==================================================================================================\n",
      "Total params: 4,353,300\n",
      "Trainable params: 4,347,144\n",
      "Non-trainable params: 6,156\n",
      "__________________________________________________________________________________________________\n"
     ]
    }
   ],
   "source": [
    "transformer = Transformer(coding_block=6, dim=256, nbr_heads=8)\n",
    "output = transformer((input_seq, output_seq))"
   ]
  },
  {
   "cell_type": "code",
   "execution_count": 4,
   "metadata": {},
   "outputs": [
    {
     "data": {
      "text/plain": [
       "<tf.Tensor: shape=(1, 6, 8), dtype=float32, numpy=\n",
       "array([[[0.11741469, 0.12957208, 0.1276873 , 0.12777339, 0.12805915,\n",
       "         0.12938951, 0.11847531, 0.12162853],\n",
       "        [0.13019527, 0.13076097, 0.12291659, 0.12526767, 0.1268087 ,\n",
       "         0.12538418, 0.12080977, 0.11785687],\n",
       "        [0.12586147, 0.12571369, 0.12718467, 0.12199046, 0.11904333,\n",
       "         0.13112497, 0.12736341, 0.12171794],\n",
       "        [0.13571785, 0.12616812, 0.1174528 , 0.121117  , 0.12787803,\n",
       "         0.12020996, 0.1187636 , 0.13269262],\n",
       "        [0.13112095, 0.12101729, 0.12059278, 0.12510535, 0.1238372 ,\n",
       "         0.12342832, 0.12979028, 0.12510777],\n",
       "        [0.1257674 , 0.12481982, 0.12139805, 0.12771165, 0.12601797,\n",
       "         0.1241264 , 0.12631916, 0.12383961]]], dtype=float32)>"
      ]
     },
     "execution_count": 4,
     "metadata": {},
     "output_type": "execute_result"
    }
   ],
   "source": [
    "output"
   ]
  },
  {
   "cell_type": "code",
   "execution_count": null,
   "metadata": {},
   "outputs": [],
   "source": []
  }
 ],
 "metadata": {
  "kernelspec": {
   "display_name": "Python 3.8.0 ('tf_gpu')",
   "language": "python",
   "name": "python3"
  },
  "language_info": {
   "codemirror_mode": {
    "name": "ipython",
    "version": 3
   },
   "file_extension": ".py",
   "mimetype": "text/x-python",
   "name": "python",
   "nbconvert_exporter": "python",
   "pygments_lexer": "ipython3",
   "version": "3.8.0"
  },
  "orig_nbformat": 4,
  "vscode": {
   "interpreter": {
    "hash": "7af6488317c4eae45cfe2d92ddcd760ac10ac76eee454fa0eead8075769044a8"
   }
  }
 },
 "nbformat": 4,
 "nbformat_minor": 2
}
