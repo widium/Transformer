{
 "cells": [
  {
   "cell_type": "code",
   "execution_count": 1,
   "metadata": {},
   "outputs": [
    {
     "name": "stdout",
     "output_type": "stream",
     "text": [
      "{'the': 8, 'fox': 2, 'jumped': 3, 'over': 5, 'lazy': 4, 'dog': 0, 'pig': 7, 'fish': 1, 'pandas': 6}\n",
      "[1.91629073 1.91629073 1.91629073 1.91629073 1.91629073 1.91629073\n",
      " 1.91629073 1.91629073 1.        ]\n",
      "(4, 9)\n",
      "[[0.4052446  0.         0.4052446  0.4052446  0.4052446  0.4052446\n",
      "  0.         0.         0.42294689]\n",
      " [0.         0.         0.         0.         0.         0.\n",
      "  0.         0.88654763 0.46263733]\n",
      " [0.         0.88654763 0.         0.         0.         0.\n",
      "  0.         0.         0.46263733]\n",
      " [0.         0.         0.         0.         0.         0.\n",
      "  0.88654763 0.         0.46263733]]\n"
     ]
    }
   ],
   "source": [
    "from sklearn.feature_extraction.text import TfidfVectorizer\n",
    "# list of text documents\n",
    "text = [\"The fox jumped over the lazy dog.\",\n",
    "        \"The pig\",\n",
    "        \"The fish\",\n",
    "        \"The pandas\"]\n",
    "# create the transform\n",
    "vectorizer = TfidfVectorizer()\n",
    "# tokenize and build vocab\n",
    "vector = vectorizer.fit_transform(text)\n",
    "\n",
    "# summarize encoded vector\n",
    "print(vectorizer.vocabulary_)\n",
    "print(vectorizer.idf_)\n",
    "print(vector.shape)\n",
    "bow = vector.toarray()\n",
    "print(bow)"
   ]
  },
  {
   "cell_type": "code",
   "execution_count": 2,
   "metadata": {},
   "outputs": [
    {
     "ename": "ValueError",
     "evalue": "can only convert an array of size 1 to a Python scalar",
     "output_type": "error",
     "traceback": [
      "\u001b[0;31m---------------------------------------------------------------------------\u001b[0m",
      "\u001b[0;31mValueError\u001b[0m                                Traceback (most recent call last)",
      "\u001b[1;32m/home/widium/Programming/AI/Learning/NLP/Transformer/main.ipynb Cell 2\u001b[0m in \u001b[0;36m<cell line: 1>\u001b[0;34m()\u001b[0m\n\u001b[0;32m----> <a href='vscode-notebook-cell:/home/widium/Programming/AI/Learning/NLP/Transformer/main.ipynb#W1sZmlsZQ%3D%3D?line=0'>1</a>\u001b[0m \u001b[39mfor\u001b[39;00m name, vector \u001b[39min\u001b[39;00m bow\u001b[39m.\u001b[39;49mitem() :\n\u001b[1;32m      <a href='vscode-notebook-cell:/home/widium/Programming/AI/Learning/NLP/Transformer/main.ipynb#W1sZmlsZQ%3D%3D?line=1'>2</a>\u001b[0m     \u001b[39mprint\u001b[39m(\u001b[39mf\u001b[39m\u001b[39m\"\u001b[39m\u001b[39m=== \u001b[39m\u001b[39m{\u001b[39;00mname\u001b[39m}\u001b[39;00m\u001b[39m ===\u001b[39m\u001b[39m\"\u001b[39m)\n\u001b[1;32m      <a href='vscode-notebook-cell:/home/widium/Programming/AI/Learning/NLP/Transformer/main.ipynb#W1sZmlsZQ%3D%3D?line=2'>3</a>\u001b[0m     \u001b[39mprint\u001b[39m(vector)\n",
      "\u001b[0;31mValueError\u001b[0m: can only convert an array of size 1 to a Python scalar"
     ]
    }
   ],
   "source": [
    "for name, vector in bow.item() :\n",
    "    print(f\"=== {name} ===\")\n",
    "    print(vector)"
   ]
  },
  {
   "cell_type": "code",
   "execution_count": null,
   "metadata": {},
   "outputs": [],
   "source": []
  }
 ],
 "metadata": {
  "kernelspec": {
   "display_name": "Python 3.8.0 ('tf_gpu')",
   "language": "python",
   "name": "python3"
  },
  "language_info": {
   "codemirror_mode": {
    "name": "ipython",
    "version": 3
   },
   "file_extension": ".py",
   "mimetype": "text/x-python",
   "name": "python",
   "nbconvert_exporter": "python",
   "pygments_lexer": "ipython3",
   "version": "3.8.0"
  },
  "orig_nbformat": 4,
  "vscode": {
   "interpreter": {
    "hash": "7af6488317c4eae45cfe2d92ddcd760ac10ac76eee454fa0eead8075769044a8"
   }
  }
 },
 "nbformat": 4,
 "nbformat_minor": 2
}
